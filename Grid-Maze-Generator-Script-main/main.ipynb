{
 "cells": [
  {
   "cell_type": "markdown",
   "id": "a845ce2a",
   "metadata": {},
   "source": [
    "# Grid-maze Generator Script"
   ]
  },
  {
   "cell_type": "markdown",
   "id": "5f94d9c9",
   "metadata": {},
   "source": [
    "This script can be used to generate multiple square grid-maze world. The grid-mazes are generated in the form of configuration files stored in `results` folder.\n",
    "\n",
    "### Configurable Parameters\n",
    "- Number of grid-maze to be generated\n",
    "- Dimension of the grid-maze\n",
    "- Reward values\n",
    "\n",
    "### Example of the generated grid maze\n",
    "<!-- ![Square Grid-maze](./lib/dat/example.svg) -->\n",
    "<img src=\"./lib/dat/example.svg\" alt=\"Square Grid-maze\" width=\"300\" align=\"left\"/>"
   ]
  },
  {
   "cell_type": "markdown",
   "id": "fb9d0154",
   "metadata": {},
   "source": [
    "# 1. Import Dependencies"
   ]
  },
  {
   "cell_type": "code",
   "execution_count": 1,
   "id": "4b39085b",
   "metadata": {},
   "outputs": [],
   "source": [
    "## IMPORT LIBRARIES\n",
    "from lib.support import gridMazeGen"
   ]
  },
  {
   "cell_type": "markdown",
   "id": "05323a7f",
   "metadata": {},
   "source": [
    "# 2. Set Configurable Parameters"
   ]
  },
  {
   "cell_type": "markdown",
   "id": "93491e53",
   "metadata": {},
   "source": [
    "- `n_maze` determines the number of the grid-maze to be generated.\n",
    "- `dim` determines the size of the grid-maze to be generated. The generated grid-maze will have `dim`×`dim` size.\n",
    "- `r_default` determines the default reward value given by the environment.\n",
    "- `r_hitwall` determines the reward value given by the environment if the agent hit a wall."
   ]
  },
  {
   "cell_type": "code",
   "execution_count": 5,
   "id": "21d3788b",
   "metadata": {},
   "outputs": [],
   "source": [
    "## USER DEFINED PARAMETERS\n",
    "\n",
    "# Number of square grid-maze to be generated\n",
    "n_maze = 5\n",
    "\n",
    "# Maze dimension\n",
    "dim = 10\n",
    "\n",
    "# Reward values\n",
    "r_default = -1 # Default Reward \n",
    "r_hitwall = -10 # Reward for hitting wall"
   ]
  },
  {
   "cell_type": "markdown",
   "id": "3e05f29b",
   "metadata": {},
   "source": [
    "# 3. Generate Grid-maze Configuration Files"
   ]
  },
  {
   "cell_type": "markdown",
   "id": "5e8b613c",
   "metadata": {},
   "source": [
    "## a. Generate Grid-mazes"
   ]
  },
  {
   "cell_type": "code",
   "execution_count": 6,
   "id": "45834cd1",
   "metadata": {},
   "outputs": [
    {
     "name": "stdout",
     "output_type": "stream",
     "text": [
      "Generating 5 maze(s) at 2024/07/29-15:49:19\n",
      "d:\\Jeremy\\TA\\Grid-Maze-Generator-Script-main\\results exist. Updating directory.\n"
     ]
    }
   ],
   "source": [
    "mazes = gridMazeGen(n_maze, \n",
    "                    dim, \n",
    "                    'results',\n",
    "                    r_default=r_default, \n",
    "                    r_hitwall=r_hitwall\n",
    "       \n",
    "                   )"
   ]
  },
  {
   "cell_type": "markdown",
   "id": "523c0d38",
   "metadata": {},
   "source": [
    "## b. Generate State Transition Matrices"
   ]
  },
  {
   "cell_type": "code",
   "execution_count": 7,
   "id": "25f7c9ff",
   "metadata": {},
   "outputs": [
    {
     "name": "stdout",
     "output_type": "stream",
     "text": [
      "Generating State Transition Matrix for 240729_10X10_0\n",
      "Generating State Transition Matrix for 240729_10X10_1\n",
      "Generating State Transition Matrix for 240729_10X10_2\n",
      "Generating State Transition Matrix for 240729_10X10_3\n",
      "Generating State Transition Matrix for 240729_10X10_4\n"
     ]
    }
   ],
   "source": [
    "### Generate State Transition Matrix\n",
    "mazes.generate_ns()"
   ]
  },
  {
   "cell_type": "markdown",
   "id": "2f1af18a",
   "metadata": {},
   "source": [
    "## c. Generate Reward Matrices"
   ]
  },
  {
   "cell_type": "code",
   "execution_count": 8,
   "id": "ecae2198",
   "metadata": {},
   "outputs": [
    {
     "name": "stdout",
     "output_type": "stream",
     "text": [
      "Generating Reward Matrix for 240729_10X10_0\n",
      "Generating Reward Matrix for 240729_10X10_1\n",
      "Generating Reward Matrix for 240729_10X10_2\n",
      "Generating Reward Matrix for 240729_10X10_3\n",
      "Generating Reward Matrix for 240729_10X10_4\n"
     ]
    }
   ],
   "source": [
    "### Generate Reward Matrix\n",
    "mazes.generate_rt()"
   ]
  },
  {
   "cell_type": "markdown",
   "id": "528644d9",
   "metadata": {},
   "source": [
    "## d. Store Generated Results"
   ]
  },
  {
   "cell_type": "code",
   "execution_count": 9,
   "id": "3c57e296",
   "metadata": {},
   "outputs": [
    {
     "name": "stdout",
     "output_type": "stream",
     "text": [
      "d:\\Jeremy\\TA\\Grid-Maze-Generator-Script-main\\results\\240729_10X10_0 doesn't exist. Creating  directory.\n",
      "In d:\\Jeremy\\TA\\Grid-Maze-Generator-Script-main\\results\\240729_10X10_0:\n",
      "\tCreated 24072910X10_s0.svg\n",
      "\tCreated 24072910X10_c0.svg\n",
      "\tCreated 24072910X10c0.txt\n",
      "d:\\Jeremy\\TA\\Grid-Maze-Generator-Script-main\\results\\240729_10X10_1 doesn't exist. Creating  directory.\n",
      "In d:\\Jeremy\\TA\\Grid-Maze-Generator-Script-main\\results\\240729_10X10_1:\n",
      "\tCreated 24072910X10_s1.svg\n",
      "\tCreated 24072910X10_c1.svg\n",
      "\tCreated 24072910X10c1.txt\n",
      "d:\\Jeremy\\TA\\Grid-Maze-Generator-Script-main\\results\\240729_10X10_2 doesn't exist. Creating  directory.\n",
      "In d:\\Jeremy\\TA\\Grid-Maze-Generator-Script-main\\results\\240729_10X10_2:\n",
      "\tCreated 24072910X10_s2.svg\n",
      "\tCreated 24072910X10_c2.svg\n",
      "\tCreated 24072910X10c2.txt\n",
      "d:\\Jeremy\\TA\\Grid-Maze-Generator-Script-main\\results\\240729_10X10_3 doesn't exist. Creating  directory.\n",
      "In d:\\Jeremy\\TA\\Grid-Maze-Generator-Script-main\\results\\240729_10X10_3:\n",
      "\tCreated 24072910X10_s3.svg\n",
      "\tCreated 24072910X10_c3.svg\n",
      "\tCreated 24072910X10c3.txt\n",
      "d:\\Jeremy\\TA\\Grid-Maze-Generator-Script-main\\results\\240729_10X10_4 doesn't exist. Creating  directory.\n",
      "In d:\\Jeremy\\TA\\Grid-Maze-Generator-Script-main\\results\\240729_10X10_4:\n",
      "\tCreated 24072910X10_s4.svg\n",
      "\tCreated 24072910X10_c4.svg\n",
      "\tCreated 24072910X10c4.txt\n"
     ]
    },
    {
     "ename": "",
     "evalue": "",
     "output_type": "error",
     "traceback": [
      "\u001b[1;31mThe Kernel crashed while executing code in the current cell or a previous cell. \n",
      "\u001b[1;31mPlease review the code in the cell(s) to identify a possible cause of the failure. \n",
      "\u001b[1;31mClick <a href='https://aka.ms/vscodeJupyterKernelCrash'>here</a> for more info. \n",
      "\u001b[1;31mView Jupyter <a href='command:jupyter.viewOutput'>log</a> for further details."
     ]
    }
   ],
   "source": [
    "### Generate SVG and config file for each mazes to desired directory\n",
    "mazes.save_results()"
   ]
  },
  {
   "cell_type": "code",
   "execution_count": null,
   "id": "c4d23384",
   "metadata": {},
   "outputs": [],
   "source": []
  }
 ],
 "metadata": {
  "kernelspec": {
   "display_name": "DQN",
   "language": "python",
   "name": "venv"
  },
  "language_info": {
   "codemirror_mode": {
    "name": "ipython",
    "version": 3
   },
   "file_extension": ".py",
   "mimetype": "text/x-python",
   "name": "python",
   "nbconvert_exporter": "python",
   "pygments_lexer": "ipython3",
   "version": "3.11.8"
  }
 },
 "nbformat": 4,
 "nbformat_minor": 5
}
